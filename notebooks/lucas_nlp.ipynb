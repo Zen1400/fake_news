{
 "cells": [
  {
   "cell_type": "markdown",
   "id": "dbb71d20",
   "metadata": {
    "id": "dbb71d20"
   },
   "source": [
    "# Importing Libraries"
   ]
  },
  {
   "cell_type": "code",
   "execution_count": 1,
   "id": "3nEmAUJ1Gx7Z",
   "metadata": {
    "colab": {
     "base_uri": "https://localhost:8080/"
    },
    "executionInfo": {
     "elapsed": 2866,
     "status": "ok",
     "timestamp": 1662708665726,
     "user": {
      "displayName": "Marco Tulio Modesto Da Silva",
      "userId": "14308612290722607901"
     },
     "user_tz": -120
    },
    "id": "3nEmAUJ1Gx7Z",
    "outputId": "5189e590-64b4-4e2e-f29f-ddfc6c3e7cda"
   },
   "outputs": [
    {
     "name": "stderr",
     "output_type": "stream",
     "text": [
      "[nltk_data] Downloading package stopwords to\n",
      "[nltk_data]     /Users/lucaspicot/nltk_data...\n",
      "[nltk_data]   Package stopwords is already up-to-date!\n"
     ]
    },
    {
     "data": {
      "text/plain": [
       "True"
      ]
     },
     "execution_count": 1,
     "metadata": {},
     "output_type": "execute_result"
    }
   ],
   "source": [
    "  >>> import nltk\n",
    "  >>> nltk.download('stopwords')"
   ]
  },
  {
   "cell_type": "code",
   "execution_count": 2,
   "id": "8a2fa627",
   "metadata": {
    "executionInfo": {
     "elapsed": 5852,
     "status": "ok",
     "timestamp": 1662708671566,
     "user": {
      "displayName": "Marco Tulio Modesto Da Silva",
      "userId": "14308612290722607901"
     },
     "user_tz": -120
    },
    "id": "8a2fa627"
   },
   "outputs": [],
   "source": [
    "import numpy as np\n",
    "import pandas as pd\n",
    "import seaborn as sns\n",
    "import matplotlib.pyplot as plt\n",
    "import nltk\n",
    "from sklearn.preprocessing import LabelBinarizer\n",
    "from nltk.corpus import stopwords\n",
    "from nltk.stem.porter import PorterStemmer\n",
    "from nltk.stem import WordNetLemmatizer\n",
    "from nltk.tokenize import word_tokenize,sent_tokenize\n",
    "from bs4 import BeautifulSoup\n",
    "import re,string,unicodedata\n",
    "from keras.preprocessing import text, sequence\n",
    "from sklearn.metrics import classification_report,confusion_matrix,accuracy_score\n",
    "from sklearn.model_selection import train_test_split\n",
    "from string import punctuation\n",
    "from nltk import pos_tag\n",
    "from nltk.corpus import wordnet\n",
    "import keras\n",
    "from keras.models import Sequential\n",
    "from keras.layers import Dense,Embedding,LSTM,Dropout\n",
    "from keras.callbacks import ReduceLROnPlateau, EarlyStopping\n",
    "import tensorflow as tf"
   ]
  },
  {
   "cell_type": "markdown",
   "id": "fa9529e5",
   "metadata": {
    "id": "fa9529e5"
   },
   "source": [
    "# Spliting Data"
   ]
  },
  {
   "cell_type": "code",
   "execution_count": 3,
   "id": "rnZ1xqIfYK-m",
   "metadata": {
    "executionInfo": {
     "elapsed": 5544,
     "status": "ok",
     "timestamp": 1662709443573,
     "user": {
      "displayName": "Marco Tulio Modesto Da Silva",
      "userId": "14308612290722607901"
     },
     "user_tz": -120
    },
    "id": "rnZ1xqIfYK-m"
   },
   "outputs": [],
   "source": [
    "\n",
    "df = pd.read_csv('tokenized_df.csv')"
   ]
  },
  {
   "cell_type": "markdown",
   "id": "d9da633c",
   "metadata": {
    "id": "d9da633c"
   },
   "source": [
    "Splitting the data into 2 parts - training and testing data"
   ]
  },
  {
   "cell_type": "code",
   "execution_count": 4,
   "id": "29d5dc71",
   "metadata": {
    "executionInfo": {
     "elapsed": 5,
     "status": "ok",
     "timestamp": 1662709443574,
     "user": {
      "displayName": "Marco Tulio Modesto Da Silva",
      "userId": "14308612290722607901"
     },
     "user_tz": -120
    },
    "id": "29d5dc71"
   },
   "outputs": [],
   "source": [
    "x_train,x_test,y_train,y_test = train_test_split(df.text,df.label,random_state = 0)"
   ]
  },
  {
   "cell_type": "code",
   "execution_count": 5,
   "id": "8d93a827",
   "metadata": {
    "executionInfo": {
     "elapsed": 4,
     "status": "ok",
     "timestamp": 1662709443574,
     "user": {
      "displayName": "Marco Tulio Modesto Da Silva",
      "userId": "14308612290722607901"
     },
     "user_tz": -120
    },
    "id": "8d93a827"
   },
   "outputs": [],
   "source": [
    "max_features = 10000\n",
    "maxlen = 300"
   ]
  },
  {
   "cell_type": "markdown",
   "id": "392bb0f7",
   "metadata": {
    "id": "392bb0f7"
   },
   "source": [
    "# Tokenizing Text"
   ]
  },
  {
   "cell_type": "markdown",
   "id": "1f43348c",
   "metadata": {
    "id": "1f43348c"
   },
   "source": [
    "Tokenizing Text -> Representing each word by a number\n",
    "\n",
    "Mapping of orginal word to number is preserved in word_index property of tokenizer\n",
    "\n",
    "Tokenized applies basic processing like changing it to lower case, explicitely setting that as False\n",
    "\n",
    "Lets keep all news to 300, add padding to news with less than 300 words and truncating long ones"
   ]
  },
  {
   "cell_type": "code",
   "execution_count": 6,
   "id": "89d5d840",
   "metadata": {
    "executionInfo": {
     "elapsed": 46128,
     "status": "ok",
     "timestamp": 1662709489699,
     "user": {
      "displayName": "Marco Tulio Modesto Da Silva",
      "userId": "14308612290722607901"
     },
     "user_tz": -120
    },
    "id": "89d5d840"
   },
   "outputs": [],
   "source": [
    "tokenizer = text.Tokenizer(num_words=max_features)\n",
    "tokenizer.fit_on_texts(x_train)\n",
    "tokenized_train = tokenizer.texts_to_sequences(x_train)\n",
    "x_train = sequence.pad_sequences(tokenized_train, maxlen=maxlen)"
   ]
  },
  {
   "cell_type": "code",
   "execution_count": 7,
   "id": "9e89ea01",
   "metadata": {
    "executionInfo": {
     "elapsed": 4928,
     "status": "ok",
     "timestamp": 1662709494563,
     "user": {
      "displayName": "Marco Tulio Modesto Da Silva",
      "userId": "14308612290722607901"
     },
     "user_tz": -120
    },
    "id": "9e89ea01"
   },
   "outputs": [],
   "source": [
    "tokenized_test = tokenizer.texts_to_sequences(x_test)\n",
    "X_test = sequence.pad_sequences(tokenized_test, maxlen=maxlen)"
   ]
  },
  {
   "cell_type": "markdown",
   "id": "e8df1c97",
   "metadata": {
    "id": "e8df1c97"
   },
   "source": [
    "# Introduction to GloVe"
   ]
  },
  {
   "cell_type": "markdown",
   "id": "51b16c7b",
   "metadata": {
    "id": "51b16c7b"
   },
   "source": [
    "GloVe method is built on an important idea, You can derive semantic relationships between words from the co-occurrence matrix. Given a corpus having V words, the co-occurrence matrix X will be a V x V matrix, where the i th row and j th column of X, X_ij denotes how many times word i has co-occurred with word j. An example co-occurrence matrix might look as follows.\n"
   ]
  },
  {
   "cell_type": "markdown",
   "id": "4c46df2d",
   "metadata": {
    "id": "4c46df2d"
   },
   "source": [
    "Source Credits - https://towardsdatascience.com/light-on-math-ml-intuitive-guide-to-understanding-glove-embeddings-b13b4f19c010"
   ]
  },
  {
   "cell_type": "code",
   "execution_count": 8,
   "id": "65bc5941",
   "metadata": {
    "executionInfo": {
     "elapsed": 55,
     "status": "ok",
     "timestamp": 1662709494586,
     "user": {
      "displayName": "Marco Tulio Modesto Da Silva",
      "userId": "14308612290722607901"
     },
     "user_tz": -120
    },
    "id": "65bc5941"
   },
   "outputs": [],
   "source": [
    "EMBEDDING_FILE = 'glove.twitter.27B.25d.txt'"
   ]
  },
  {
   "cell_type": "code",
   "execution_count": 9,
   "id": "PhXPtlRGsBxF",
   "metadata": {
    "colab": {
     "base_uri": "https://localhost:8080/",
     "height": 35
    },
    "executionInfo": {
     "elapsed": 54,
     "status": "ok",
     "timestamp": 1662709494587,
     "user": {
      "displayName": "Marco Tulio Modesto Da Silva",
      "userId": "14308612290722607901"
     },
     "user_tz": -120
    },
    "id": "PhXPtlRGsBxF",
    "outputId": "21aa6cfd-8ec2-44e3-9f3f-09730a49d23d"
   },
   "outputs": [
    {
     "data": {
      "text/plain": [
       "'glove.twitter.27B.25d.txt'"
      ]
     },
     "execution_count": 9,
     "metadata": {},
     "output_type": "execute_result"
    }
   ],
   "source": [
    "EMBEDDING_FILE"
   ]
  },
  {
   "cell_type": "code",
   "execution_count": 10,
   "id": "076e127c",
   "metadata": {
    "executionInfo": {
     "elapsed": 12029,
     "status": "ok",
     "timestamp": 1662709506585,
     "user": {
      "displayName": "Marco Tulio Modesto Da Silva",
      "userId": "14308612290722607901"
     },
     "user_tz": -120
    },
    "id": "076e127c"
   },
   "outputs": [],
   "source": [
    "def get_coefs(word, *arr): \n",
    "    return word, np.asarray(arr, dtype='float32')\n",
    "embeddings_index = dict(get_coefs(*o.rstrip().rsplit(' ')) for o in open(EMBEDDING_FILE))"
   ]
  },
  {
   "cell_type": "code",
   "execution_count": 11,
   "id": "1777a166",
   "metadata": {
    "colab": {
     "base_uri": "https://localhost:8080/"
    },
    "executionInfo": {
     "elapsed": 1599,
     "status": "ok",
     "timestamp": 1662709508144,
     "user": {
      "displayName": "Marco Tulio Modesto Da Silva",
      "userId": "14308612290722607901"
     },
     "user_tz": -120
    },
    "id": "1777a166",
    "outputId": "fc26faf8-f4ac-49a4-bfa0-446e1bdecf7c"
   },
   "outputs": [
    {
     "name": "stderr",
     "output_type": "stream",
     "text": [
      "/Users/lucaspicot/.pyenv/versions/3.8.12/envs/lewagon/lib/python3.8/site-packages/IPython/core/interactiveshell.py:3377: FutureWarning: arrays to stack must be passed as a \"sequence\" type such as list or tuple. Support for non-sequence iterables such as generators is deprecated as of NumPy 1.16 and will raise an error in the future.\n",
      "  if (await self.run_code(code, result,  async_=asy)):\n"
     ]
    }
   ],
   "source": [
    "all_embs = np.stack(embeddings_index.values())\n",
    "emb_mean,emb_std = all_embs.mean(), all_embs.std()\n",
    "embed_size = all_embs.shape[1]\n",
    "\n",
    "word_index = tokenizer.word_index\n",
    "nb_words = min(max_features, len(word_index))\n",
    "#change below line if computing normal stats is too slow\n",
    "embedding_matrix = embedding_matrix = np.random.normal(emb_mean, emb_std, (nb_words, embed_size))\n",
    "for word, i in word_index.items():\n",
    "    if i >= max_features: continue\n",
    "    embedding_vector = embeddings_index.get(word)\n",
    "    if embedding_vector is not None: embedding_matrix[i] = embedding_vector"
   ]
  },
  {
   "cell_type": "markdown",
   "id": "58799151",
   "metadata": {
    "id": "58799151"
   },
   "source": [
    "# Training Model"
   ]
  },
  {
   "cell_type": "markdown",
   "id": "6dd1c3ea",
   "metadata": {
    "id": "6dd1c3ea"
   },
   "source": [
    "Some Model Parameters"
   ]
  },
  {
   "cell_type": "code",
   "execution_count": 12,
   "id": "5ff331c1",
   "metadata": {
    "executionInfo": {
     "elapsed": 9,
     "status": "ok",
     "timestamp": 1662709508146,
     "user": {
      "displayName": "Marco Tulio Modesto Da Silva",
      "userId": "14308612290722607901"
     },
     "user_tz": -120
    },
    "id": "5ff331c1"
   },
   "outputs": [],
   "source": [
    "from tensorflow import keras\n",
    "from tensorflow.keras import layers"
   ]
  },
  {
   "cell_type": "code",
   "execution_count": 13,
   "id": "3a8666a7",
   "metadata": {
    "executionInfo": {
     "elapsed": 8,
     "status": "ok",
     "timestamp": 1662709508146,
     "user": {
      "displayName": "Marco Tulio Modesto Da Silva",
      "userId": "14308612290722607901"
     },
     "user_tz": -120
    },
    "id": "3a8666a7"
   },
   "outputs": [],
   "source": [
    "batch_size = 256\n",
    "epochs = 30\n",
    "embed_size = 25"
   ]
  },
  {
   "cell_type": "code",
   "execution_count": 14,
   "id": "98c1ef72",
   "metadata": {
    "executionInfo": {
     "elapsed": 9,
     "status": "ok",
     "timestamp": 1662709508148,
     "user": {
      "displayName": "Marco Tulio Modesto Da Silva",
      "userId": "14308612290722607901"
     },
     "user_tz": -120
    },
    "id": "98c1ef72"
   },
   "outputs": [],
   "source": [
    "learning_rate_reduction = ReduceLROnPlateau(monitor='val_accuracy', patience = 2, verbose=1,factor=0.5, min_lr=0.00001)"
   ]
  },
  {
   "cell_type": "code",
   "execution_count": 15,
   "id": "15ad3130",
   "metadata": {
    "colab": {
     "base_uri": "https://localhost:8080/"
    },
    "executionInfo": {
     "elapsed": 970,
     "status": "ok",
     "timestamp": 1662709509110,
     "user": {
      "displayName": "Marco Tulio Modesto Da Silva",
      "userId": "14308612290722607901"
     },
     "user_tz": -120
    },
    "id": "15ad3130",
    "outputId": "ec787bcc-b3a8-4ded-a6c4-20c93b637751"
   },
   "outputs": [
    {
     "name": "stderr",
     "output_type": "stream",
     "text": [
      "2022-09-09 11:24:43.214982: I tensorflow/core/platform/cpu_feature_guard.cc:142] This TensorFlow binary is optimized with oneAPI Deep Neural Network Library (oneDNN) to use the following CPU instructions in performance-critical operations:  SSE4.2\n",
      "To enable them in other operations, rebuild TensorFlow with the appropriate compiler flags.\n"
     ]
    }
   ],
   "source": [
    "#Defining Neural Network\n",
    "model = Sequential()\n",
    "\n",
    "#Non-trainable embeddidng layer\n",
    "model.add(Embedding(max_features, output_dim=embed_size, weights=[embedding_matrix], input_length=maxlen, trainable=True))\n",
    "\n",
    "#LSTM \n",
    "model.add(LSTM(units=128 , return_sequences = True , recurrent_dropout = 0.25 , dropout = 0.25))\n",
    "model.add(LSTM(units=64 , recurrent_dropout = 0.1 , dropout = 0.1))\n",
    "model.add(Dense(units = 32 , activation = 'relu'))\n",
    "model.add(Dropout(rate=0.2))\n",
    "model.add(Dense(1, activation='sigmoid'))\n",
    "model.compile(optimizer='Adam', loss='binary_crossentropy', metrics=['accuracy'])"
   ]
  },
  {
   "cell_type": "code",
   "execution_count": 16,
   "id": "62986fb7",
   "metadata": {
    "colab": {
     "base_uri": "https://localhost:8080/"
    },
    "executionInfo": {
     "elapsed": 33,
     "status": "ok",
     "timestamp": 1662709509118,
     "user": {
      "displayName": "Marco Tulio Modesto Da Silva",
      "userId": "14308612290722607901"
     },
     "user_tz": -120
    },
    "id": "62986fb7",
    "outputId": "9206cdd3-998c-46d2-b623-fe4386e36b17"
   },
   "outputs": [
    {
     "name": "stdout",
     "output_type": "stream",
     "text": [
      "Model: \"sequential\"\n",
      "_________________________________________________________________\n",
      "Layer (type)                 Output Shape              Param #   \n",
      "=================================================================\n",
      "embedding (Embedding)        (None, 300, 25)           250000    \n",
      "_________________________________________________________________\n",
      "lstm (LSTM)                  (None, 300, 128)          78848     \n",
      "_________________________________________________________________\n",
      "lstm_1 (LSTM)                (None, 64)                49408     \n",
      "_________________________________________________________________\n",
      "dense (Dense)                (None, 32)                2080      \n",
      "_________________________________________________________________\n",
      "dropout (Dropout)            (None, 32)                0         \n",
      "_________________________________________________________________\n",
      "dense_1 (Dense)              (None, 1)                 33        \n",
      "=================================================================\n",
      "Total params: 380,369\n",
      "Trainable params: 380,369\n",
      "Non-trainable params: 0\n",
      "_________________________________________________________________\n"
     ]
    }
   ],
   "source": [
    "model.summary()"
   ]
  },
  {
   "cell_type": "code",
   "execution_count": 17,
   "id": "9f057dc7",
   "metadata": {
    "colab": {
     "base_uri": "https://localhost:8080/"
    },
    "id": "9f057dc7",
    "outputId": "1d3e5702-8023-4adf-a7ff-c354e603794a"
   },
   "outputs": [
    {
     "name": "stderr",
     "output_type": "stream",
     "text": [
      "2022-09-09 11:24:43.569622: I tensorflow/compiler/mlir/mlir_graph_optimization_pass.cc:176] None of the MLIR Optimization Passes are enabled (registered 2)\n"
     ]
    },
    {
     "name": "stdout",
     "output_type": "stream",
     "text": [
      "Epoch 1/30\n",
      "219/219 [==============================] - 355s 2s/step - loss: 0.6911 - accuracy: 0.5159 - val_loss: 0.6698 - val_accuracy: 0.5506\n",
      "Epoch 2/30\n",
      "219/219 [==============================] - 318s 1s/step - loss: 0.6618 - accuracy: 0.5500 - val_loss: 0.6573 - val_accuracy: 0.5543\n",
      "Epoch 3/30\n",
      "219/219 [==============================] - 336s 2s/step - loss: 0.6558 - accuracy: 0.5488 - val_loss: 0.6546 - val_accuracy: 0.5541\n",
      "Epoch 4/30\n",
      "219/219 [==============================] - 324s 1s/step - loss: 0.6508 - accuracy: 0.5505 - val_loss: 0.6539 - val_accuracy: 0.5423\n",
      "Epoch 5/30\n",
      "219/219 [==============================] - 346s 2s/step - loss: 0.6450 - accuracy: 0.5579 - val_loss: 0.6547 - val_accuracy: 0.5501\n",
      "Epoch 6/30\n",
      "219/219 [==============================] - 381s 2s/step - loss: 0.6405 - accuracy: 0.5645 - val_loss: 0.6470 - val_accuracy: 0.5461\n",
      "Epoch 7/30\n",
      "219/219 [==============================] - 355s 2s/step - loss: 0.6357 - accuracy: 0.5690 - val_loss: 0.6457 - val_accuracy: 0.5393\n",
      "Epoch 8/30\n",
      "219/219 [==============================] - 420s 2s/step - loss: 0.6308 - accuracy: 0.5681 - val_loss: 0.6501 - val_accuracy: 0.5476\n",
      "Epoch 9/30\n",
      "219/219 [==============================] - 386s 2s/step - loss: 0.6297 - accuracy: 0.5723 - val_loss: 0.6449 - val_accuracy: 0.5427\n",
      "Epoch 10/30\n",
      "219/219 [==============================] - 497s 2s/step - loss: 0.6285 - accuracy: 0.5703 - val_loss: 0.6503 - val_accuracy: 0.5428\n",
      "Epoch 11/30\n",
      "219/219 [==============================] - 406s 2s/step - loss: 0.6205 - accuracy: 0.5778 - val_loss: 0.6453 - val_accuracy: 0.5438\n",
      "Epoch 12/30\n",
      "219/219 [==============================] - 429s 2s/step - loss: 0.6183 - accuracy: 0.5837 - val_loss: 0.6598 - val_accuracy: 0.5433\n",
      "Epoch 13/30\n",
      "219/219 [==============================] - 441s 2s/step - loss: 0.6143 - accuracy: 0.5828 - val_loss: 0.6677 - val_accuracy: 0.5451\n",
      "Epoch 14/30\n",
      "219/219 [==============================] - 464s 2s/step - loss: 0.6127 - accuracy: 0.5877 - val_loss: 0.6693 - val_accuracy: 0.5439\n",
      "Epoch 15/30\n",
      "219/219 [==============================] - 408s 2s/step - loss: 0.6095 - accuracy: 0.5884 - val_loss: 0.6780 - val_accuracy: 0.5387\n",
      "Epoch 16/30\n",
      "219/219 [==============================] - 380s 2s/step - loss: 0.6101 - accuracy: 0.5866 - val_loss: 0.6803 - val_accuracy: 0.5411\n",
      "Epoch 17/30\n",
      "219/219 [==============================] - 340s 2s/step - loss: 0.6079 - accuracy: 0.5908 - val_loss: 0.6881 - val_accuracy: 0.5423\n",
      "Epoch 18/30\n",
      "219/219 [==============================] - 297s 1s/step - loss: 0.6053 - accuracy: 0.5931 - val_loss: 0.6778 - val_accuracy: 0.5320\n",
      "Epoch 19/30\n",
      "219/219 [==============================] - 358s 2s/step - loss: 0.6042 - accuracy: 0.5950 - val_loss: 0.6798 - val_accuracy: 0.5347\n",
      "Epoch 20/30\n",
      "219/219 [==============================] - 357s 2s/step - loss: 0.5992 - accuracy: 0.5978 - val_loss: 0.6836 - val_accuracy: 0.5360\n",
      "Epoch 21/30\n",
      "219/219 [==============================] - 359s 2s/step - loss: 0.5973 - accuracy: 0.6020 - val_loss: 0.7049 - val_accuracy: 0.5257\n",
      "Epoch 22/30\n",
      "219/219 [==============================] - 298s 1s/step - loss: 0.5965 - accuracy: 0.5964 - val_loss: 0.7059 - val_accuracy: 0.5293\n",
      "Epoch 23/30\n",
      "219/219 [==============================] - 278s 1s/step - loss: 0.5937 - accuracy: 0.6035 - val_loss: 0.7465 - val_accuracy: 0.5212\n",
      "Epoch 24/30\n",
      "219/219 [==============================] - 266s 1s/step - loss: 0.5923 - accuracy: 0.6055 - val_loss: 0.7755 - val_accuracy: 0.5250\n",
      "Epoch 25/30\n",
      "219/219 [==============================] - 266s 1s/step - loss: 0.5886 - accuracy: 0.6062 - val_loss: 0.6964 - val_accuracy: 0.5230\n",
      "Epoch 26/30\n",
      "219/219 [==============================] - 271s 1s/step - loss: 0.5886 - accuracy: 0.6066 - val_loss: 0.7881 - val_accuracy: 0.5217\n",
      "Epoch 27/30\n",
      "219/219 [==============================] - 292s 1s/step - loss: 0.5868 - accuracy: 0.6076 - val_loss: 0.7508 - val_accuracy: 0.5147\n",
      "Epoch 28/30\n",
      "219/219 [==============================] - 375s 2s/step - loss: 0.5836 - accuracy: 0.6139 - val_loss: 0.7579 - val_accuracy: 0.5108\n",
      "Epoch 29/30\n",
      "219/219 [==============================] - 348s 2s/step - loss: 0.5803 - accuracy: 0.6154 - val_loss: 0.7791 - val_accuracy: 0.5118\n",
      "Epoch 30/30\n",
      "219/219 [==============================] - 467s 2s/step - loss: 0.5822 - accuracy: 0.6129 - val_loss: 0.7755 - val_accuracy: 0.5056\n"
     ]
    },
    {
     "data": {
      "text/plain": [
       "<keras.callbacks.History at 0x1de3654f0>"
      ]
     },
     "execution_count": 17,
     "metadata": {},
     "output_type": "execute_result"
    }
   ],
   "source": [
    "history = model.fit(x_train, y_train, batch_size = batch_size, validation_split = 0.2 , epochs = epochs )\n"
   ]
  },
  {
   "cell_type": "markdown",
   "id": "9f6eb350",
   "metadata": {
    "id": "9f6eb350"
   },
   "source": [
    "# Analyse after training the Model"
   ]
  },
  {
   "cell_type": "code",
   "execution_count": 18,
   "id": "fc02ddf6",
   "metadata": {
    "executionInfo": {
     "elapsed": 76,
     "status": "aborted",
     "timestamp": 1662708676169,
     "user": {
      "displayName": "Marco Tulio Modesto Da Silva",
      "userId": "14308612290722607901"
     },
     "user_tz": -120
    },
    "id": "fc02ddf6"
   },
   "outputs": [
    {
     "name": "stdout",
     "output_type": "stream",
     "text": [
      "2185/2185 [==============================] - 170s 78ms/step - loss: 0.6051 - accuracy: 0.6060\n",
      "Accuracy of the model on Training Data is -  60.600125789642334 %\n",
      "729/729 [==============================] - 52s 71ms/step - loss: 0.7803 - accuracy: 0.5090\n",
      "Accuracy of the model on Testing Data is -  50.903159379959106 %\n"
     ]
    }
   ],
   "source": [
    "print(\"Accuracy of the model on Training Data is - \" , model.evaluate(x_train,y_train)[1]*100 , \"%\")\n",
    "print(\"Accuracy of the model on Testing Data is - \" , model.evaluate(X_test,y_test)[1]*100 , \"%\")"
   ]
  },
  {
   "cell_type": "code",
   "execution_count": 20,
   "id": "caf0f526",
   "metadata": {
    "executionInfo": {
     "elapsed": 77,
     "status": "aborted",
     "timestamp": 1662708676170,
     "user": {
      "displayName": "Marco Tulio Modesto Da Silva",
      "userId": "14308612290722607901"
     },
     "user_tz": -120
    },
    "id": "caf0f526"
   },
   "outputs": [
    {
     "ename": "ValueError",
     "evalue": "x and y must have same first dimension, but have shapes (2,) and (30,)",
     "output_type": "error",
     "traceback": [
      "\u001b[0;31m---------------------------------------------------------------------------\u001b[0m",
      "\u001b[0;31mValueError\u001b[0m                                Traceback (most recent call last)",
      "\u001b[0;32m/var/folders/cl/x784q0v50m5417cgrr7ykdzw0000gn/T/ipykernel_5062/4279888348.py\u001b[0m in \u001b[0;36m<module>\u001b[0;34m\u001b[0m\n\u001b[1;32m      7\u001b[0m \u001b[0mfig\u001b[0m\u001b[0;34m.\u001b[0m\u001b[0mset_size_inches\u001b[0m\u001b[0;34m(\u001b[0m\u001b[0;36m20\u001b[0m\u001b[0;34m,\u001b[0m\u001b[0;36m10\u001b[0m\u001b[0;34m)\u001b[0m\u001b[0;34m\u001b[0m\u001b[0;34m\u001b[0m\u001b[0m\n\u001b[1;32m      8\u001b[0m \u001b[0;34m\u001b[0m\u001b[0m\n\u001b[0;32m----> 9\u001b[0;31m \u001b[0max\u001b[0m\u001b[0;34m[\u001b[0m\u001b[0;36m0\u001b[0m\u001b[0;34m]\u001b[0m\u001b[0;34m.\u001b[0m\u001b[0mplot\u001b[0m\u001b[0;34m(\u001b[0m\u001b[0mepochs\u001b[0m \u001b[0;34m,\u001b[0m \u001b[0mtrain_acc\u001b[0m \u001b[0;34m,\u001b[0m \u001b[0;34m'go-'\u001b[0m \u001b[0;34m,\u001b[0m \u001b[0mlabel\u001b[0m \u001b[0;34m=\u001b[0m \u001b[0;34m'Training Accuracy'\u001b[0m\u001b[0;34m)\u001b[0m\u001b[0;34m\u001b[0m\u001b[0;34m\u001b[0m\u001b[0m\n\u001b[0m\u001b[1;32m     10\u001b[0m \u001b[0max\u001b[0m\u001b[0;34m[\u001b[0m\u001b[0;36m0\u001b[0m\u001b[0;34m]\u001b[0m\u001b[0;34m.\u001b[0m\u001b[0mplot\u001b[0m\u001b[0;34m(\u001b[0m\u001b[0mepochs\u001b[0m \u001b[0;34m,\u001b[0m \u001b[0mval_acc\u001b[0m \u001b[0;34m,\u001b[0m \u001b[0;34m'ro-'\u001b[0m \u001b[0;34m,\u001b[0m \u001b[0mlabel\u001b[0m \u001b[0;34m=\u001b[0m \u001b[0;34m'Testing Accuracy'\u001b[0m\u001b[0;34m)\u001b[0m\u001b[0;34m\u001b[0m\u001b[0;34m\u001b[0m\u001b[0m\n\u001b[1;32m     11\u001b[0m \u001b[0max\u001b[0m\u001b[0;34m[\u001b[0m\u001b[0;36m0\u001b[0m\u001b[0;34m]\u001b[0m\u001b[0;34m.\u001b[0m\u001b[0mset_title\u001b[0m\u001b[0;34m(\u001b[0m\u001b[0;34m'Training & Testing Accuracy'\u001b[0m\u001b[0;34m)\u001b[0m\u001b[0;34m\u001b[0m\u001b[0;34m\u001b[0m\u001b[0m\n",
      "\u001b[0;32m~/.pyenv/versions/3.8.12/envs/lewagon/lib/python3.8/site-packages/matplotlib/axes/_axes.py\u001b[0m in \u001b[0;36mplot\u001b[0;34m(self, scalex, scaley, data, *args, **kwargs)\u001b[0m\n\u001b[1;32m   1630\u001b[0m         \"\"\"\n\u001b[1;32m   1631\u001b[0m         \u001b[0mkwargs\u001b[0m \u001b[0;34m=\u001b[0m \u001b[0mcbook\u001b[0m\u001b[0;34m.\u001b[0m\u001b[0mnormalize_kwargs\u001b[0m\u001b[0;34m(\u001b[0m\u001b[0mkwargs\u001b[0m\u001b[0;34m,\u001b[0m \u001b[0mmlines\u001b[0m\u001b[0;34m.\u001b[0m\u001b[0mLine2D\u001b[0m\u001b[0;34m)\u001b[0m\u001b[0;34m\u001b[0m\u001b[0;34m\u001b[0m\u001b[0m\n\u001b[0;32m-> 1632\u001b[0;31m         \u001b[0mlines\u001b[0m \u001b[0;34m=\u001b[0m \u001b[0;34m[\u001b[0m\u001b[0;34m*\u001b[0m\u001b[0mself\u001b[0m\u001b[0;34m.\u001b[0m\u001b[0m_get_lines\u001b[0m\u001b[0;34m(\u001b[0m\u001b[0;34m*\u001b[0m\u001b[0margs\u001b[0m\u001b[0;34m,\u001b[0m \u001b[0mdata\u001b[0m\u001b[0;34m=\u001b[0m\u001b[0mdata\u001b[0m\u001b[0;34m,\u001b[0m \u001b[0;34m**\u001b[0m\u001b[0mkwargs\u001b[0m\u001b[0;34m)\u001b[0m\u001b[0;34m]\u001b[0m\u001b[0;34m\u001b[0m\u001b[0;34m\u001b[0m\u001b[0m\n\u001b[0m\u001b[1;32m   1633\u001b[0m         \u001b[0;32mfor\u001b[0m \u001b[0mline\u001b[0m \u001b[0;32min\u001b[0m \u001b[0mlines\u001b[0m\u001b[0;34m:\u001b[0m\u001b[0;34m\u001b[0m\u001b[0;34m\u001b[0m\u001b[0m\n\u001b[1;32m   1634\u001b[0m             \u001b[0mself\u001b[0m\u001b[0;34m.\u001b[0m\u001b[0madd_line\u001b[0m\u001b[0;34m(\u001b[0m\u001b[0mline\u001b[0m\u001b[0;34m)\u001b[0m\u001b[0;34m\u001b[0m\u001b[0;34m\u001b[0m\u001b[0m\n",
      "\u001b[0;32m~/.pyenv/versions/3.8.12/envs/lewagon/lib/python3.8/site-packages/matplotlib/axes/_base.py\u001b[0m in \u001b[0;36m__call__\u001b[0;34m(self, data, *args, **kwargs)\u001b[0m\n\u001b[1;32m    310\u001b[0m                 \u001b[0mthis\u001b[0m \u001b[0;34m+=\u001b[0m \u001b[0margs\u001b[0m\u001b[0;34m[\u001b[0m\u001b[0;36m0\u001b[0m\u001b[0;34m]\u001b[0m\u001b[0;34m,\u001b[0m\u001b[0;34m\u001b[0m\u001b[0;34m\u001b[0m\u001b[0m\n\u001b[1;32m    311\u001b[0m                 \u001b[0margs\u001b[0m \u001b[0;34m=\u001b[0m \u001b[0margs\u001b[0m\u001b[0;34m[\u001b[0m\u001b[0;36m1\u001b[0m\u001b[0;34m:\u001b[0m\u001b[0;34m]\u001b[0m\u001b[0;34m\u001b[0m\u001b[0;34m\u001b[0m\u001b[0m\n\u001b[0;32m--> 312\u001b[0;31m             \u001b[0;32myield\u001b[0m \u001b[0;32mfrom\u001b[0m \u001b[0mself\u001b[0m\u001b[0;34m.\u001b[0m\u001b[0m_plot_args\u001b[0m\u001b[0;34m(\u001b[0m\u001b[0mthis\u001b[0m\u001b[0;34m,\u001b[0m \u001b[0mkwargs\u001b[0m\u001b[0;34m)\u001b[0m\u001b[0;34m\u001b[0m\u001b[0;34m\u001b[0m\u001b[0m\n\u001b[0m\u001b[1;32m    313\u001b[0m \u001b[0;34m\u001b[0m\u001b[0m\n\u001b[1;32m    314\u001b[0m     \u001b[0;32mdef\u001b[0m \u001b[0mget_next_color\u001b[0m\u001b[0;34m(\u001b[0m\u001b[0mself\u001b[0m\u001b[0;34m)\u001b[0m\u001b[0;34m:\u001b[0m\u001b[0;34m\u001b[0m\u001b[0;34m\u001b[0m\u001b[0m\n",
      "\u001b[0;32m~/.pyenv/versions/3.8.12/envs/lewagon/lib/python3.8/site-packages/matplotlib/axes/_base.py\u001b[0m in \u001b[0;36m_plot_args\u001b[0;34m(self, tup, kwargs, return_kwargs)\u001b[0m\n\u001b[1;32m    496\u001b[0m \u001b[0;34m\u001b[0m\u001b[0m\n\u001b[1;32m    497\u001b[0m         \u001b[0;32mif\u001b[0m \u001b[0mx\u001b[0m\u001b[0;34m.\u001b[0m\u001b[0mshape\u001b[0m\u001b[0;34m[\u001b[0m\u001b[0;36m0\u001b[0m\u001b[0;34m]\u001b[0m \u001b[0;34m!=\u001b[0m \u001b[0my\u001b[0m\u001b[0;34m.\u001b[0m\u001b[0mshape\u001b[0m\u001b[0;34m[\u001b[0m\u001b[0;36m0\u001b[0m\u001b[0;34m]\u001b[0m\u001b[0;34m:\u001b[0m\u001b[0;34m\u001b[0m\u001b[0;34m\u001b[0m\u001b[0m\n\u001b[0;32m--> 498\u001b[0;31m             raise ValueError(f\"x and y must have same first dimension, but \"\n\u001b[0m\u001b[1;32m    499\u001b[0m                              f\"have shapes {x.shape} and {y.shape}\")\n\u001b[1;32m    500\u001b[0m         \u001b[0;32mif\u001b[0m \u001b[0mx\u001b[0m\u001b[0;34m.\u001b[0m\u001b[0mndim\u001b[0m \u001b[0;34m>\u001b[0m \u001b[0;36m2\u001b[0m \u001b[0;32mor\u001b[0m \u001b[0my\u001b[0m\u001b[0;34m.\u001b[0m\u001b[0mndim\u001b[0m \u001b[0;34m>\u001b[0m \u001b[0;36m2\u001b[0m\u001b[0;34m:\u001b[0m\u001b[0;34m\u001b[0m\u001b[0;34m\u001b[0m\u001b[0m\n",
      "\u001b[0;31mValueError\u001b[0m: x and y must have same first dimension, but have shapes (2,) and (30,)"
     ]
    },
    {
     "data": {
      "image/png": "[encoded data removed]",
      "text/plain": [
       "<Figure size 1440x720 with 2 Axes>"
      ]
     },
     "metadata": {
      "needs_background": "light"
     },
     "output_type": "display_data"
    }
   ],
   "source": [
    "epochs = [i for i in range(2)]\n",
    "fig , ax = plt.subplots(1,2)\n",
    "train_acc = history.history['accuracy']\n",
    "train_loss = history.history['loss']\n",
    "val_acc = history.history['val_accuracy']\n",
    "val_loss = history.history['val_loss']\n",
    "fig.set_size_inches(20,10)\n",
    "\n",
    "ax[0].plot(epochs , train_acc , 'go-' , label = 'Training Accuracy')\n",
    "ax[0].plot(epochs , val_acc , 'ro-' , label = 'Testing Accuracy')\n",
    "ax[0].set_title('Training & Testing Accuracy')\n",
    "ax[0].legend()\n",
    "ax[0].set_xlabel(\"Epochs\")\n",
    "ax[0].set_ylabel(\"Accuracy\")\n",
    "\n",
    "ax[1].plot(epochs , train_loss , 'go-' , label = 'Training Loss')\n",
    "ax[1].plot(epochs , val_loss , 'ro-' , label = 'Testing Loss')\n",
    "ax[1].set_title('Training & Testing Loss')\n",
    "ax[1].legend()\n",
    "ax[1].set_xlabel(\"Epochs\")\n",
    "ax[1].set_ylabel(\"Loss\")\n",
    "plt.show()"
   ]
  },
  {
   "cell_type": "code",
   "execution_count": 21,
   "id": "smvMGjsyGISA",
   "metadata": {
    "executionInfo": {
     "elapsed": 77,
     "status": "aborted",
     "timestamp": 1662708676171,
     "user": {
      "displayName": "Marco Tulio Modesto Da Silva",
      "userId": "14308612290722607901"
     },
     "user_tz": -120
    },
    "id": "smvMGjsyGISA"
   },
   "outputs": [],
   "source": [
    "y_pred = model.predict(X_test)\n",
    "y_pred = np.round(y_pred).astype(int)\n"
   ]
  },
  {
   "cell_type": "code",
   "execution_count": null,
   "id": "CwwggFMvGwA-",
   "metadata": {
    "executionInfo": {
     "elapsed": 78,
     "status": "aborted",
     "timestamp": 1662708676172,
     "user": {
      "displayName": "Marco Tulio Modesto Da Silva",
      "userId": "14308612290722607901"
     },
     "user_tz": -120
    },
    "id": "CwwggFMvGwA-"
   },
   "outputs": [],
   "source": [
    "y_pred[:10]"
   ]
  },
  {
   "cell_type": "code",
   "execution_count": null,
   "id": "ng90FWnPEpCw",
   "metadata": {
    "executionInfo": {
     "elapsed": 78,
     "status": "aborted",
     "timestamp": 1662708676172,
     "user": {
      "displayName": "Marco Tulio Modesto Da Silva",
      "userId": "14308612290722607901"
     },
     "user_tz": -120
    },
    "id": "ng90FWnPEpCw"
   },
   "outputs": [],
   "source": [
    "print(classification_report(y_test, y_pred, target_names = ['Fake','Not Fake']))"
   ]
  },
  {
   "cell_type": "code",
   "execution_count": null,
   "id": "BK0kxV5sHhZE",
   "metadata": {
    "executionInfo": {
     "elapsed": 80,
     "status": "aborted",
     "timestamp": 1662708676174,
     "user": {
      "displayName": "Marco Tulio Modesto Da Silva",
      "userId": "14308612290722607901"
     },
     "user_tz": -120
    },
    "id": "BK0kxV5sHhZE"
   },
   "outputs": [],
   "source": [
    "cm = confusion_matrix(y_test,y_pred)\n",
    "cm"
   ]
  },
  {
   "cell_type": "code",
   "execution_count": null,
   "id": "YhpLyZQ8HkFC",
   "metadata": {
    "executionInfo": {
     "elapsed": 81,
     "status": "aborted",
     "timestamp": 1662708676175,
     "user": {
      "displayName": "Marco Tulio Modesto Da Silva",
      "userId": "14308612290722607901"
     },
     "user_tz": -120
    },
    "id": "YhpLyZQ8HkFC"
   },
   "outputs": [],
   "source": [
    "cm = pd.DataFrame(cm , index = ['Fake','Original'] , columns = ['Fake','Original'])"
   ]
  },
  {
   "cell_type": "code",
   "execution_count": null,
   "id": "4kGQAg1lHrbC",
   "metadata": {
    "executionInfo": {
     "elapsed": 82,
     "status": "aborted",
     "timestamp": 1662708676176,
     "user": {
      "displayName": "Marco Tulio Modesto Da Silva",
      "userId": "14308612290722607901"
     },
     "user_tz": -120
    },
    "id": "4kGQAg1lHrbC"
   },
   "outputs": [],
   "source": [
    "plt.figure(figsize = (10,10))\n",
    "sns.heatmap(cm,cmap= \"Blues\", linecolor = 'black' , linewidth = 1 , annot = True, fmt='' , xticklabels = ['Fake','Original'] , yticklabels = ['Fake','Original'])\n",
    "plt.xlabel(\"Predicted\")\n",
    "plt.ylabel(\"Actual\")"
   ]
  },
  {
   "cell_type": "code",
   "execution_count": null,
   "id": "1i4hBNlXHtO9",
   "metadata": {
    "executionInfo": {
     "elapsed": 82,
     "status": "aborted",
     "timestamp": 1662708676176,
     "user": {
      "displayName": "Marco Tulio Modesto Da Silva",
      "userId": "14308612290722607901"
     },
     "user_tz": -120
    },
    "id": "1i4hBNlXHtO9"
   },
   "outputs": [],
   "source": [
    "accuracy_score(y_test,y_pred)"
   ]
  },
  {
   "cell_type": "code",
   "execution_count": null,
   "id": "1367a30b",
   "metadata": {},
   "outputs": [],
   "source": []
  }
 ],
 "metadata": {
  "colab": {
   "collapsed_sections": [
    "ea3f9846"
   ],
   "provenance": []
  },
  "kernelspec": {
   "display_name": "Python 3 (ipykernel)",
   "language": "python",
   "name": "python3"
  },
  "language_info": {
   "codemirror_mode": {
    "name": "ipython",
    "version": 3
   },
   "file_extension": ".py",
   "mimetype": "text/x-python",
   "name": "python",
   "nbconvert_exporter": "python",
   "pygments_lexer": "ipython3",
   "version": "3.8.12"
  },
  "toc": {
   "base_numbering": 1,
   "nav_menu": {},
   "number_sections": true,
   "sideBar": true,
   "skip_h1_title": false,
   "title_cell": "Table of Contents",
   "title_sidebar": "Contents",
   "toc_cell": false,
   "toc_position": {},
   "toc_section_display": true,
   "toc_window_display": false
  },
  "varInspector": {
   "cols": {
    "lenName": 16,
    "lenType": 16,
    "lenVar": 40
   },
   "kernels_config": {
    "python": {
     "delete_cmd_postfix": "",
     "delete_cmd_prefix": "del ",
     "library": "var_list.py",
     "varRefreshCmd": "print(var_dic_list())"
    },
    "r": {
     "delete_cmd_postfix": ") ",
     "delete_cmd_prefix": "rm(",
     "library": "var_list.r",
     "varRefreshCmd": "cat(var_dic_list()) "
    }
   },
   "position": {
    "height": "238.849px",
    "left": "955.085px",
    "right": "20px",
    "top": "120px",
    "width": "334.006px"
   },
   "types_to_exclude": [
    "module",
    "function",
    "builtin_function_or_method",
    "instance",
    "_Feature"
   ],
   "window_display": false
  }
 },
 "nbformat": 4,
 "nbformat_minor": 5
}
