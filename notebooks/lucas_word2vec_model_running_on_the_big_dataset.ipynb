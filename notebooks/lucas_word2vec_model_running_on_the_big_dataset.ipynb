{
 "cells": [
  {
   "cell_type": "code",
   "execution_count": 1,
   "id": "2f18700e",
   "metadata": {},
   "outputs": [
    {
     "name": "stderr",
     "output_type": "stream",
     "text": [
      "[nltk_data] Downloading package stopwords to\n",
      "[nltk_data]     /Users/lucaspicot/nltk_data...\n",
      "[nltk_data]   Package stopwords is already up-to-date!\n"
     ]
    }
   ],
   "source": [
    "import matplotlib.pyplot as plt\n",
    "import numpy as np\n",
    "import pandas as pd\n",
    "import seaborn as sns\n",
    "from sklearn.compose import ColumnTransformer, make_column_transformer\n",
    "from sklearn.pipeline import make_pipeline\n",
    "from sklearn.preprocessing import FunctionTransformer, OneHotEncoder\n",
    "from sklearn import set_config; set_config(display='diagram')\n",
    "from tensorflow.keras.preprocessing.text import Tokenizer\n",
    "import string\n",
    "import os\n",
    "import nltk\n",
    "nltk.download('stopwords')\n",
    "from nltk.tokenize import word_tokenize\n",
    "from nltk.corpus import stopwords \n",
    "from sklearn.model_selection import train_test_split \n",
    "from tensorflow.keras.preprocessing.sequence import pad_sequences\n",
    "from tensorflow.keras.preprocessing.sequence import pad_sequences\n",
    "from tensorflow.keras import layers, Sequential\n",
    "\n",
    "from tensorflow.keras.callbacks import EarlyStopping"
   ]
  },
  {
   "cell_type": "markdown",
   "id": "8f45d328",
   "metadata": {},
   "source": [
    "# Load the dataset already preprocessed"
   ]
  },
  {
   "cell_type": "code",
   "execution_count": 2,
   "id": "b96708af",
   "metadata": {
    "scrolled": true
   },
   "outputs": [],
   "source": [
    "data = pd.read_csv(\"/Users/lucaspicot/code/Zen1400/fake_news/raw_data/tokenized_df.csv\")"
   ]
  },
  {
   "cell_type": "code",
   "execution_count": 3,
   "id": "c22bb210",
   "metadata": {},
   "outputs": [],
   "source": [
    "## Delete the first column\n",
    "\n",
    "data = data.drop(columns= 'Unnamed: 0')"
   ]
  },
  {
   "cell_type": "code",
   "execution_count": 4,
   "id": "a8a83c2c",
   "metadata": {},
   "outputs": [
    {
     "data": {
      "text/html": [
       "<div>\n",
       "<style scoped>\n",
       "    .dataframe tbody tr th:only-of-type {\n",
       "        vertical-align: middle;\n",
       "    }\n",
       "\n",
       "    .dataframe tbody tr th {\n",
       "        vertical-align: top;\n",
       "    }\n",
       "\n",
       "    .dataframe thead th {\n",
       "        text-align: right;\n",
       "    }\n",
       "</style>\n",
       "<table border=\"1\" class=\"dataframe\">\n",
       "  <thead>\n",
       "    <tr style=\"text-align: right;\">\n",
       "      <th></th>\n",
       "      <th>text</th>\n",
       "      <th>label</th>\n",
       "    </tr>\n",
       "  </thead>\n",
       "  <tbody>\n",
       "    <tr>\n",
       "      <th>0</th>\n",
       "      <td>['washington', 'reuters', 'head', 'conservativ...</td>\n",
       "      <td>1</td>\n",
       "    </tr>\n",
       "    <tr>\n",
       "      <th>1</th>\n",
       "      <td>['washington', 'reuters', 'transgender', 'peop...</td>\n",
       "      <td>1</td>\n",
       "    </tr>\n",
       "    <tr>\n",
       "      <th>2</th>\n",
       "      <td>['washington', 'reuters', 'special', 'counsel'...</td>\n",
       "      <td>1</td>\n",
       "    </tr>\n",
       "    <tr>\n",
       "      <th>3</th>\n",
       "      <td>['washington', 'reuters', 'trump', 'campaign',...</td>\n",
       "      <td>1</td>\n",
       "    </tr>\n",
       "    <tr>\n",
       "      <th>4</th>\n",
       "      <td>['seattlewashington', 'reuters', 'president', ...</td>\n",
       "      <td>1</td>\n",
       "    </tr>\n",
       "    <tr>\n",
       "      <th>...</th>\n",
       "      <td>...</td>\n",
       "      <td>...</td>\n",
       "    </tr>\n",
       "    <tr>\n",
       "      <th>93221</th>\n",
       "      <td>['email', 'released', 'wikileaks', 'sunday', '...</td>\n",
       "      <td>1</td>\n",
       "    </tr>\n",
       "    <tr>\n",
       "      <th>93222</th>\n",
       "      <td>['washington', 'reuters', 'hackers', 'believed...</td>\n",
       "      <td>0</td>\n",
       "    </tr>\n",
       "    <tr>\n",
       "      <th>93223</th>\n",
       "      <td>['know', 'fantasyland', 'republicans', 'never'...</td>\n",
       "      <td>1</td>\n",
       "    </tr>\n",
       "    <tr>\n",
       "      <th>93224</th>\n",
       "      <td>['migrants', 'refuse', 'leave', 'train', 'refu...</td>\n",
       "      <td>0</td>\n",
       "    </tr>\n",
       "    <tr>\n",
       "      <th>93225</th>\n",
       "      <td>['mexico', 'city', 'reuters', 'donald', 'trump...</td>\n",
       "      <td>0</td>\n",
       "    </tr>\n",
       "  </tbody>\n",
       "</table>\n",
       "<p>93226 rows × 2 columns</p>\n",
       "</div>"
      ],
      "text/plain": [
       "                                                    text  label\n",
       "0      ['washington', 'reuters', 'head', 'conservativ...      1\n",
       "1      ['washington', 'reuters', 'transgender', 'peop...      1\n",
       "2      ['washington', 'reuters', 'special', 'counsel'...      1\n",
       "3      ['washington', 'reuters', 'trump', 'campaign',...      1\n",
       "4      ['seattlewashington', 'reuters', 'president', ...      1\n",
       "...                                                  ...    ...\n",
       "93221  ['email', 'released', 'wikileaks', 'sunday', '...      1\n",
       "93222  ['washington', 'reuters', 'hackers', 'believed...      0\n",
       "93223  ['know', 'fantasyland', 'republicans', 'never'...      1\n",
       "93224  ['migrants', 'refuse', 'leave', 'train', 'refu...      0\n",
       "93225  ['mexico', 'city', 'reuters', 'donald', 'trump...      0\n",
       "\n",
       "[93226 rows x 2 columns]"
      ]
     },
     "execution_count": 4,
     "metadata": {},
     "output_type": "execute_result"
    }
   ],
   "source": [
    "data"
   ]
  },
  {
   "cell_type": "code",
   "execution_count": 5,
   "id": "027aae9e",
   "metadata": {},
   "outputs": [],
   "source": [
    "indexes = np.random.randint(0, high=93225, size=40000) #try to catch 40% percent \n"
   ]
  },
  {
   "cell_type": "code",
   "execution_count": 6,
   "id": "54923caf",
   "metadata": {},
   "outputs": [
    {
     "data": {
      "text/plain": [
       "40000"
      ]
     },
     "execution_count": 6,
     "metadata": {},
     "output_type": "execute_result"
    }
   ],
   "source": [
    "len(indexes)"
   ]
  },
  {
   "cell_type": "code",
   "execution_count": 7,
   "id": "8ad51da0",
   "metadata": {},
   "outputs": [],
   "source": [
    "data = data.loc[indexes,:] #get only 40K rows"
   ]
  },
  {
   "cell_type": "markdown",
   "id": "0587782a",
   "metadata": {},
   "source": [
    "# Splitting Data"
   ]
  },
  {
   "cell_type": "code",
   "execution_count": 8,
   "id": "6c5a9595",
   "metadata": {},
   "outputs": [
    {
     "data": {
      "text/plain": [
       "31226    0\n",
       "33806    0\n",
       "6438     1\n",
       "9116     1\n",
       "64418    0\n",
       "        ..\n",
       "47278    1\n",
       "89639    1\n",
       "60753    0\n",
       "47004    1\n",
       "72169    0\n",
       "Name: label, Length: 12000, dtype: int8"
      ]
     },
     "execution_count": 8,
     "metadata": {},
     "output_type": "execute_result"
    }
   ],
   "source": [
    "## Splitting the data\n",
    "\n",
    "X = data['text']             \n",
    "y = data['label'] \n",
    "X_train, X_test, y_train, y_test = train_test_split(X,y,test_size=0.3)\n",
    "y_train.astype('int8')\n",
    "y_test.astype('int8')"
   ]
  },
  {
   "cell_type": "markdown",
   "id": "5bd1afc2",
   "metadata": {},
   "source": [
    "# Vectorized"
   ]
  },
  {
   "cell_type": "code",
   "execution_count": 10,
   "id": "36a52f97",
   "metadata": {},
   "outputs": [],
   "source": [
    "from gensim.models import Word2Vec ##check window parameter after\n",
    "\n",
    "word2vec = Word2Vec(sentences=X_train, vector_size=10, min_count=5)"
   ]
  },
  {
   "cell_type": "code",
   "execution_count": 11,
   "id": "7c50f31d",
   "metadata": {},
   "outputs": [],
   "source": [
    "from tensorflow.keras.preprocessing.sequence import pad_sequences\n",
    "import numpy as np\n",
    "\n",
    "# Function to convert a sentence (list of words) into a matrix representing the words in the embedding space\n",
    "def embed_sentence(word2vec, sentence):\n",
    "    embedded_sentence = []\n",
    "    for word in sentence:\n",
    "        if word in word2vec.wv:\n",
    "            embedded_sentence.append(word2vec.wv[word])\n",
    "        \n",
    "    return np.array(embedded_sentence)\n",
    "\n",
    "# Function that converts a list of sentences into a list of matrices\n",
    "def embedding(word2vec, sentences):\n",
    "    embed = []\n",
    "    \n",
    "    for sentence in sentences:\n",
    "        embedded_sentence = embed_sentence(word2vec, sentence)\n",
    "        embed.append(embedded_sentence)\n",
    "        \n",
    "    return embed"
   ]
  },
  {
   "cell_type": "code",
   "execution_count": 12,
   "id": "8ecc118d",
   "metadata": {},
   "outputs": [],
   "source": [
    "X_test_embed = embedding(word2vec, X_test)"
   ]
  },
  {
   "cell_type": "code",
   "execution_count": 13,
   "id": "faed00e2",
   "metadata": {},
   "outputs": [],
   "source": [
    "# Embed the training and test sentences\n",
    "X_train_embed = embedding(word2vec, X_train)"
   ]
  },
  {
   "cell_type": "markdown",
   "id": "ae0c6103",
   "metadata": {},
   "source": [
    "# Padding to make the input of the same length"
   ]
  },
  {
   "cell_type": "code",
   "execution_count": 14,
   "id": "8ce86a00",
   "metadata": {},
   "outputs": [],
   "source": [
    "# Pad the training and test embedded sentences\n",
    "X_train_padded = pad_sequences(X_train_embed, dtype='float32', padding='pre', maxlen=500, value = -99.0)"
   ]
  },
  {
   "cell_type": "code",
   "execution_count": 15,
   "id": "f8e097cf",
   "metadata": {},
   "outputs": [],
   "source": [
    "X_test_padded = pad_sequences(X_test_embed, dtype='float32', padding='pre', maxlen=500, value = -99.0)"
   ]
  },
  {
   "cell_type": "code",
   "execution_count": 16,
   "id": "ca06aebc",
   "metadata": {},
   "outputs": [
    {
     "data": {
      "text/plain": [
       "((28000, 500, 10), (12000, 500, 10))"
      ]
     },
     "execution_count": 16,
     "metadata": {},
     "output_type": "execute_result"
    }
   ],
   "source": [
    "#Check shape\n",
    "\n",
    "X_train_padded.shape , X_test_padded.shape"
   ]
  },
  {
   "cell_type": "code",
   "execution_count": 18,
   "id": "7279422d",
   "metadata": {},
   "outputs": [
    {
     "data": {
      "text/plain": [
       "array([[[-5.7712281e-01, -5.1936036e-01,  5.8623981e-01, ...,\n",
       "          8.4643590e-01,  1.0535728e+00, -1.2819780e+00],\n",
       "        [-1.1708661e+00,  9.0038085e-01,  5.2296704e-01, ...,\n",
       "         -9.0019703e-01, -2.2798823e-01, -1.4007531e+00],\n",
       "        [-3.4860459e-01,  9.4914734e-01, -4.7574520e-02, ...,\n",
       "         -5.3607225e-01,  1.1720301e+00, -9.6821845e-01],\n",
       "        ...,\n",
       "        [ 3.1153548e-01,  1.0276473e+00,  4.0099910e-01, ...,\n",
       "         -3.4593168e-01,  2.0931157e-01, -6.7018974e-01],\n",
       "        [-3.4860459e-01,  9.4914734e-01, -4.7574520e-02, ...,\n",
       "         -5.3607225e-01,  1.1720301e+00, -9.6821845e-01],\n",
       "        [-1.4375784e+00,  1.3912442e-03,  5.0007927e-01, ...,\n",
       "         -4.8208591e-01,  1.9115931e+00, -2.2102029e+00]],\n",
       "\n",
       "       [[-1.0062619e-02,  8.4898734e-01,  5.7506561e-01, ...,\n",
       "         -3.7789342e-01, -5.8738768e-02, -5.5502898e-01],\n",
       "        [-8.0681944e-01, -4.2781797e-01, -2.4429040e-01, ...,\n",
       "          5.6494439e-01,  1.0326473e+00, -2.8137615e-01],\n",
       "        [-1.1708661e+00,  9.0038085e-01,  5.2296704e-01, ...,\n",
       "         -9.0019703e-01, -2.2798823e-01, -1.4007531e+00],\n",
       "        ...,\n",
       "        [ 8.2443925e-03, -2.0963652e-01,  5.8571815e-01, ...,\n",
       "          9.3324614e-01,  1.5079544e+00, -6.8677604e-01],\n",
       "        [-3.4860459e-01,  9.4914734e-01, -4.7574520e-02, ...,\n",
       "         -5.3607225e-01,  1.1720301e+00, -9.6821845e-01],\n",
       "        [-1.4375784e+00,  1.3912442e-03,  5.0007927e-01, ...,\n",
       "         -4.8208591e-01,  1.9115931e+00, -2.2102029e+00]],\n",
       "\n",
       "       [[-5.7712281e-01, -5.1936036e-01,  5.8623981e-01, ...,\n",
       "          8.4643590e-01,  1.0535728e+00, -1.2819780e+00],\n",
       "        [-7.3413581e-02,  2.5981218e-01,  1.7086527e+00, ...,\n",
       "         -1.4981638e-01, -1.3349911e+00, -8.7565953e-01],\n",
       "        [ 8.2443925e-03, -2.0963652e-01,  5.8571815e-01, ...,\n",
       "          9.3324614e-01,  1.5079544e+00, -6.8677604e-01],\n",
       "        ...,\n",
       "        [-1.1708661e+00,  9.0038085e-01,  5.2296704e-01, ...,\n",
       "         -9.0019703e-01, -2.2798823e-01, -1.4007531e+00],\n",
       "        [-3.4860459e-01,  9.4914734e-01, -4.7574520e-02, ...,\n",
       "         -5.3607225e-01,  1.1720301e+00, -9.6821845e-01],\n",
       "        [-1.4375784e+00,  1.3912442e-03,  5.0007927e-01, ...,\n",
       "         -4.8208591e-01,  1.9115931e+00, -2.2102029e+00]],\n",
       "\n",
       "       ...,\n",
       "\n",
       "       [[ 8.2443925e-03, -2.0963652e-01,  5.8571815e-01, ...,\n",
       "          9.3324614e-01,  1.5079544e+00, -6.8677604e-01],\n",
       "        [-1.3113672e+00, -9.4341207e-01, -4.7833464e-01, ...,\n",
       "         -7.5403708e-01,  8.4700561e-01,  2.8364462e-01],\n",
       "        [ 8.2443925e-03, -2.0963652e-01,  5.8571815e-01, ...,\n",
       "          9.3324614e-01,  1.5079544e+00, -6.8677604e-01],\n",
       "        ...,\n",
       "        [-3.7086821e-01,  1.6722914e+00,  3.7490562e-01, ...,\n",
       "         -9.4690305e-01,  5.7040328e-01, -1.1480967e+00],\n",
       "        [-3.4860459e-01,  9.4914734e-01, -4.7574520e-02, ...,\n",
       "         -5.3607225e-01,  1.1720301e+00, -9.6821845e-01],\n",
       "        [-1.4375784e+00,  1.3912442e-03,  5.0007927e-01, ...,\n",
       "         -4.8208591e-01,  1.9115931e+00, -2.2102029e+00]],\n",
       "\n",
       "       [[-3.4860459e-01,  9.4914734e-01, -4.7574520e-02, ...,\n",
       "         -5.3607225e-01,  1.1720301e+00, -9.6821845e-01],\n",
       "        [-8.0077964e-01,  9.8652571e-02, -1.3414633e-01, ...,\n",
       "         -1.0754796e+00,  1.5520152e+00, -2.3535426e+00],\n",
       "        [-1.6964949e+00,  1.1488382e+00,  4.1613767e-01, ...,\n",
       "         -1.5771796e-01,  1.3748173e+00, -1.0031956e+00],\n",
       "        ...,\n",
       "        [ 3.1153548e-01,  1.0276473e+00,  4.0099910e-01, ...,\n",
       "         -3.4593168e-01,  2.0931157e-01, -6.7018974e-01],\n",
       "        [-3.4860459e-01,  9.4914734e-01, -4.7574520e-02, ...,\n",
       "         -5.3607225e-01,  1.1720301e+00, -9.6821845e-01],\n",
       "        [-1.4375784e+00,  1.3912442e-03,  5.0007927e-01, ...,\n",
       "         -4.8208591e-01,  1.9115931e+00, -2.2102029e+00]],\n",
       "\n",
       "       [[-9.9000000e+01, -9.9000000e+01, -9.9000000e+01, ...,\n",
       "         -9.9000000e+01, -9.9000000e+01, -9.9000000e+01],\n",
       "        [-9.9000000e+01, -9.9000000e+01, -9.9000000e+01, ...,\n",
       "         -9.9000000e+01, -9.9000000e+01, -9.9000000e+01],\n",
       "        [-9.9000000e+01, -9.9000000e+01, -9.9000000e+01, ...,\n",
       "         -9.9000000e+01, -9.9000000e+01, -9.9000000e+01],\n",
       "        ...,\n",
       "        [-1.1708661e+00,  9.0038085e-01,  5.2296704e-01, ...,\n",
       "         -9.0019703e-01, -2.2798823e-01, -1.4007531e+00],\n",
       "        [-3.4860459e-01,  9.4914734e-01, -4.7574520e-02, ...,\n",
       "         -5.3607225e-01,  1.1720301e+00, -9.6821845e-01],\n",
       "        [-1.4375784e+00,  1.3912442e-03,  5.0007927e-01, ...,\n",
       "         -4.8208591e-01,  1.9115931e+00, -2.2102029e+00]]], dtype=float32)"
      ]
     },
     "execution_count": 18,
     "metadata": {},
     "output_type": "execute_result"
    }
   ],
   "source": [
    "X_train_padded"
   ]
  },
  {
   "cell_type": "markdown",
   "id": "ff4f9c87",
   "metadata": {},
   "source": [
    "# Create the model"
   ]
  },
  {
   "cell_type": "code",
   "execution_count": 19,
   "id": "88e0c536",
   "metadata": {},
   "outputs": [],
   "source": [
    "from tensorflow.keras import regularizers"
   ]
  },
  {
   "cell_type": "code",
   "execution_count": 23,
   "id": "70879792",
   "metadata": {},
   "outputs": [],
   "source": [
    "#Zein's model \n",
    "\n",
    "\n",
    "\n",
    "reg_l1 = regularizers.L1(0.01)\n",
    "reg_l2 = regularizers.L2(0.01)\n",
    "\n",
    "model = Sequential([\n",
    "    layers.Masking(mask_value= -99.0),\n",
    "    layers.LSTM(20, activation='tanh'),\n",
    "    layers.Dense(20, activation = 'relu', kernel_regularizer=reg_l1),\n",
    "    layers.Dropout(rate=0.2),\n",
    "    layers.Dense(15, activation = 'relu', kernel_regularizer=reg_l1 ),\n",
    "    layers.Dropout(rate=0.2),\n",
    "    layers.Dense(10, activation = 'relu', kernel_regularizer=reg_l1),\n",
    "    layers.Dropout(rate=0.2),\n",
    "    layers.Dense(1, activation=\"sigmoid\")\n",
    "    \n",
    "\n",
    "])\n",
    "\n",
    "model.compile(loss='binary_crossentropy',\n",
    "              optimizer='rmsprop',\n",
    "              metrics=['accuracy'])\n"
   ]
  },
  {
   "cell_type": "code",
   "execution_count": 24,
   "id": "22bf1c02",
   "metadata": {},
   "outputs": [
    {
     "name": "stdout",
     "output_type": "stream",
     "text": [
      "Epoch 1/100\n",
      "1488/1488 - 156s - loss: 0.8577 - accuracy: 0.5041 - val_loss: 0.6975 - val_accuracy: 0.4990\n",
      "Epoch 2/100\n",
      "1488/1488 - 154s - loss: 0.6974 - accuracy: 0.5011 - val_loss: 0.6976 - val_accuracy: 0.4990\n",
      "Epoch 3/100\n",
      "1488/1488 - 153s - loss: 0.6974 - accuracy: 0.5031 - val_loss: 0.6975 - val_accuracy: 0.5010\n",
      "Epoch 4/100\n",
      "1488/1488 - 154s - loss: 0.6974 - accuracy: 0.5014 - val_loss: 0.6975 - val_accuracy: 0.4990\n",
      "Epoch 5/100\n",
      "1488/1488 - 154s - loss: 0.6974 - accuracy: 0.5000 - val_loss: 0.6975 - val_accuracy: 0.4990\n",
      "Epoch 6/100\n",
      "1488/1488 - 154s - loss: 0.6974 - accuracy: 0.5014 - val_loss: 0.6975 - val_accuracy: 0.4990\n",
      "Epoch 7/100\n",
      "1488/1488 - 153s - loss: 0.6974 - accuracy: 0.5016 - val_loss: 0.6975 - val_accuracy: 0.4990\n",
      "Epoch 8/100\n",
      "1488/1488 - 154s - loss: 0.6974 - accuracy: 0.4958 - val_loss: 0.6975 - val_accuracy: 0.4990\n",
      "Epoch 9/100\n",
      "1488/1488 - 152s - loss: 0.6974 - accuracy: 0.5050 - val_loss: 0.6976 - val_accuracy: 0.4990\n",
      "Epoch 10/100\n",
      "1488/1488 - 152s - loss: 0.6974 - accuracy: 0.5032 - val_loss: 0.6976 - val_accuracy: 0.4990\n",
      "Epoch 11/100\n",
      "1488/1488 - 152s - loss: 0.6974 - accuracy: 0.5021 - val_loss: 0.6975 - val_accuracy: 0.4990\n",
      "Epoch 12/100\n",
      "1488/1488 - 153s - loss: 0.6974 - accuracy: 0.5000 - val_loss: 0.6975 - val_accuracy: 0.4990\n",
      "Epoch 13/100\n",
      "1488/1488 - 152s - loss: 0.6974 - accuracy: 0.5026 - val_loss: 0.6975 - val_accuracy: 0.4990\n",
      "Epoch 14/100\n",
      "1488/1488 - 152s - loss: 0.6974 - accuracy: 0.4994 - val_loss: 0.6975 - val_accuracy: 0.4990\n",
      "Epoch 15/100\n",
      "1488/1488 - 152s - loss: 0.6974 - accuracy: 0.5022 - val_loss: 0.6977 - val_accuracy: 0.4990\n",
      "Epoch 16/100\n",
      "1488/1488 - 152s - loss: 0.6974 - accuracy: 0.4992 - val_loss: 0.6975 - val_accuracy: 0.4990\n",
      "Epoch 17/100\n",
      "1488/1488 - 152s - loss: 0.6974 - accuracy: 0.5023 - val_loss: 0.6975 - val_accuracy: 0.4990\n",
      "Epoch 18/100\n",
      "1488/1488 - 153s - loss: 0.6974 - accuracy: 0.5018 - val_loss: 0.6975 - val_accuracy: 0.4990\n",
      "Restoring model weights from the end of the best epoch.\n",
      "Epoch 00018: early stopping\n"
     ]
    },
    {
     "data": {
      "text/plain": [
       "<tensorflow.python.keras.callbacks.History at 0x19364f940>"
      ]
     },
     "execution_count": 24,
     "metadata": {},
     "output_type": "execute_result"
    }
   ],
   "source": [
    "# Early stopping and train the model\n",
    "\n",
    "es = EarlyStopping(patience = 15, verbose=2, monitor='val_loss', restore_best_weights = True)\n",
    "\n",
    "model.fit(X_train_padded, y_train, batch_size = 16, verbose=2 ,callbacks = [es], validation_split=0.15, epochs = 100)"
   ]
  },
  {
   "cell_type": "code",
   "execution_count": null,
   "id": "b984918c",
   "metadata": {},
   "outputs": [],
   "source": [
    "model.evaluate(X_test_padded, y_test)"
   ]
  },
  {
   "cell_type": "code",
   "execution_count": null,
   "id": "4aa5d80f",
   "metadata": {},
   "outputs": [],
   "source": []
  }
 ],
 "metadata": {
  "kernelspec": {
   "display_name": "Python 3 (ipykernel)",
   "language": "python",
   "name": "python3"
  },
  "language_info": {
   "codemirror_mode": {
    "name": "ipython",
    "version": 3
   },
   "file_extension": ".py",
   "mimetype": "text/x-python",
   "name": "python",
   "nbconvert_exporter": "python",
   "pygments_lexer": "ipython3",
   "version": "3.8.12"
  },
  "toc": {
   "base_numbering": 1,
   "nav_menu": {},
   "number_sections": true,
   "sideBar": true,
   "skip_h1_title": false,
   "title_cell": "Table of Contents",
   "title_sidebar": "Contents",
   "toc_cell": false,
   "toc_position": {},
   "toc_section_display": true,
   "toc_window_display": false
  },
  "varInspector": {
   "cols": {
    "lenName": 16,
    "lenType": 16,
    "lenVar": 40
   },
   "kernels_config": {
    "python": {
     "delete_cmd_postfix": "",
     "delete_cmd_prefix": "del ",
     "library": "var_list.py",
     "varRefreshCmd": "print(var_dic_list())"
    },
    "r": {
     "delete_cmd_postfix": ") ",
     "delete_cmd_prefix": "rm(",
     "library": "var_list.r",
     "varRefreshCmd": "cat(var_dic_list()) "
    }
   },
   "oldHeight": 281.889364,
   "position": {
    "height": "303.878px",
    "left": "780.98px",
    "right": "20px",
    "top": "134.949px",
    "width": "499.006px"
   },
   "types_to_exclude": [
    "module",
    "function",
    "builtin_function_or_method",
    "instance",
    "_Feature"
   ],
   "varInspector_section_display": "block",
   "window_display": false
  }
 },
 "nbformat": 4,
 "nbformat_minor": 5
}
