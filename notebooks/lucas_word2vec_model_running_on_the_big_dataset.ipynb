{
 "cells": [
  {
   "cell_type": "code",
   "execution_count": 1,
   "id": "2f18700e",
   "metadata": {},
   "outputs": [
    {
     "name": "stderr",
     "output_type": "stream",
     "text": [
      "[nltk_data] Downloading package stopwords to\n",
      "[nltk_data]     /Users/lucaspicot/nltk_data...\n",
      "[nltk_data]   Package stopwords is already up-to-date!\n"
     ]
    }
   ],
   "source": [
    "import matplotlib.pyplot as plt\n",
    "import numpy as np\n",
    "import pandas as pd\n",
    "import seaborn as sns\n",
    "from sklearn.compose import ColumnTransformer, make_column_transformer\n",
    "from sklearn.pipeline import make_pipeline\n",
    "from sklearn.preprocessing import FunctionTransformer, OneHotEncoder\n",
    "from sklearn import set_config; set_config(display='diagram')\n",
    "from tensorflow.keras.preprocessing.text import Tokenizer\n",
    "import string\n",
    "import os\n",
    "import nltk\n",
    "nltk.download('stopwords')\n",
    "from nltk.tokenize import word_tokenize\n",
    "from nltk.corpus import stopwords \n",
    "from sklearn.model_selection import train_test_split \n",
    "from tensorflow.keras.preprocessing.sequence import pad_sequences\n",
    "from tensorflow.keras.preprocessing.sequence import pad_sequences\n",
    "from tensorflow.keras import layers, Sequential\n",
    "\n",
    "from tensorflow.keras.callbacks import EarlyStopping"
   ]
  },
  {
   "cell_type": "markdown",
   "id": "8f45d328",
   "metadata": {},
   "source": [
    "# Load the dataset already preprocessed"
   ]
  },
  {
   "cell_type": "code",
   "execution_count": 2,
   "id": "b96708af",
   "metadata": {
    "scrolled": true
   },
   "outputs": [],
   "source": [
    "data = pd.read_csv('tokenized_df.csv')"
   ]
  },
  {
   "cell_type": "code",
   "execution_count": 3,
   "id": "c22bb210",
   "metadata": {},
   "outputs": [],
   "source": [
    "## Delete the first column\n",
    "\n",
    "data = data.drop(columns= 'Unnamed: 0')"
   ]
  },
  {
   "cell_type": "code",
   "execution_count": 4,
   "id": "a8a83c2c",
   "metadata": {},
   "outputs": [
    {
     "data": {
      "text/html": [
       "<div>\n",
       "<style scoped>\n",
       "    .dataframe tbody tr th:only-of-type {\n",
       "        vertical-align: middle;\n",
       "    }\n",
       "\n",
       "    .dataframe tbody tr th {\n",
       "        vertical-align: top;\n",
       "    }\n",
       "\n",
       "    .dataframe thead th {\n",
       "        text-align: right;\n",
       "    }\n",
       "</style>\n",
       "<table border=\"1\" class=\"dataframe\">\n",
       "  <thead>\n",
       "    <tr style=\"text-align: right;\">\n",
       "      <th></th>\n",
       "      <th>text</th>\n",
       "      <th>label</th>\n",
       "    </tr>\n",
       "  </thead>\n",
       "  <tbody>\n",
       "    <tr>\n",
       "      <th>0</th>\n",
       "      <td>['washington', 'reuters', 'head', 'conservativ...</td>\n",
       "      <td>1</td>\n",
       "    </tr>\n",
       "    <tr>\n",
       "      <th>1</th>\n",
       "      <td>['washington', 'reuters', 'transgender', 'peop...</td>\n",
       "      <td>1</td>\n",
       "    </tr>\n",
       "    <tr>\n",
       "      <th>2</th>\n",
       "      <td>['washington', 'reuters', 'special', 'counsel'...</td>\n",
       "      <td>1</td>\n",
       "    </tr>\n",
       "    <tr>\n",
       "      <th>3</th>\n",
       "      <td>['washington', 'reuters', 'trump', 'campaign',...</td>\n",
       "      <td>1</td>\n",
       "    </tr>\n",
       "    <tr>\n",
       "      <th>4</th>\n",
       "      <td>['seattlewashington', 'reuters', 'president', ...</td>\n",
       "      <td>1</td>\n",
       "    </tr>\n",
       "    <tr>\n",
       "      <th>...</th>\n",
       "      <td>...</td>\n",
       "      <td>...</td>\n",
       "    </tr>\n",
       "    <tr>\n",
       "      <th>93221</th>\n",
       "      <td>['email', 'released', 'wikileaks', 'sunday', '...</td>\n",
       "      <td>1</td>\n",
       "    </tr>\n",
       "    <tr>\n",
       "      <th>93222</th>\n",
       "      <td>['washington', 'reuters', 'hackers', 'believed...</td>\n",
       "      <td>0</td>\n",
       "    </tr>\n",
       "    <tr>\n",
       "      <th>93223</th>\n",
       "      <td>['know', 'fantasyland', 'republicans', 'never'...</td>\n",
       "      <td>1</td>\n",
       "    </tr>\n",
       "    <tr>\n",
       "      <th>93224</th>\n",
       "      <td>['migrants', 'refuse', 'leave', 'train', 'refu...</td>\n",
       "      <td>0</td>\n",
       "    </tr>\n",
       "    <tr>\n",
       "      <th>93225</th>\n",
       "      <td>['mexico', 'city', 'reuters', 'donald', 'trump...</td>\n",
       "      <td>0</td>\n",
       "    </tr>\n",
       "  </tbody>\n",
       "</table>\n",
       "<p>93226 rows × 2 columns</p>\n",
       "</div>"
      ],
      "text/plain": [
       "                                                    text  label\n",
       "0      ['washington', 'reuters', 'head', 'conservativ...      1\n",
       "1      ['washington', 'reuters', 'transgender', 'peop...      1\n",
       "2      ['washington', 'reuters', 'special', 'counsel'...      1\n",
       "3      ['washington', 'reuters', 'trump', 'campaign',...      1\n",
       "4      ['seattlewashington', 'reuters', 'president', ...      1\n",
       "...                                                  ...    ...\n",
       "93221  ['email', 'released', 'wikileaks', 'sunday', '...      1\n",
       "93222  ['washington', 'reuters', 'hackers', 'believed...      0\n",
       "93223  ['know', 'fantasyland', 'republicans', 'never'...      1\n",
       "93224  ['migrants', 'refuse', 'leave', 'train', 'refu...      0\n",
       "93225  ['mexico', 'city', 'reuters', 'donald', 'trump...      0\n",
       "\n",
       "[93226 rows x 2 columns]"
      ]
     },
     "execution_count": 4,
     "metadata": {},
     "output_type": "execute_result"
    }
   ],
   "source": [
    "data"
   ]
  },
  {
   "cell_type": "code",
   "execution_count": 5,
   "id": "027aae9e",
   "metadata": {},
   "outputs": [],
   "source": [
    "indexes = np.random.randint(0, high=93225, size=40000) #try to catch 40% percent \n"
   ]
  },
  {
   "cell_type": "code",
   "execution_count": 6,
   "id": "54923caf",
   "metadata": {},
   "outputs": [
    {
     "data": {
      "text/plain": [
       "40000"
      ]
     },
     "execution_count": 6,
     "metadata": {},
     "output_type": "execute_result"
    }
   ],
   "source": [
    "len(indexes)"
   ]
  },
  {
   "cell_type": "code",
   "execution_count": 7,
   "id": "8ad51da0",
   "metadata": {},
   "outputs": [],
   "source": [
    "data = data.loc[indexes,:] #get only 40K rows"
   ]
  },
  {
   "cell_type": "markdown",
   "id": "0587782a",
   "metadata": {},
   "source": [
    "# Splitting Data"
   ]
  },
  {
   "cell_type": "code",
   "execution_count": 8,
   "id": "6c5a9595",
   "metadata": {},
   "outputs": [
    {
     "data": {
      "text/plain": [
       "1766     1\n",
       "43584    1\n",
       "70624    1\n",
       "90360    0\n",
       "22232    0\n",
       "        ..\n",
       "8057     1\n",
       "11856    1\n",
       "77743    0\n",
       "75704    0\n",
       "67738    0\n",
       "Name: label, Length: 12000, dtype: int8"
      ]
     },
     "execution_count": 8,
     "metadata": {},
     "output_type": "execute_result"
    }
   ],
   "source": [
    "## Splitting the data\n",
    "\n",
    "X = data['text']             \n",
    "y = data['label'] \n",
    "X_train, X_test, y_train, y_test = train_test_split(X,y,test_size=0.3)\n",
    "y_train.astype('int8')\n",
    "y_test.astype('int8')"
   ]
  },
  {
   "cell_type": "markdown",
   "id": "5bd1afc2",
   "metadata": {},
   "source": [
    "# Vectorized"
   ]
  },
  {
   "cell_type": "code",
   "execution_count": 9,
   "id": "36a52f97",
   "metadata": {},
   "outputs": [],
   "source": [
    "from gensim.models import Word2Vec ##check window parameter after\n",
    "\n",
    "word2vec = Word2Vec(sentences=X_train, vector_size=10, min_count=5)"
   ]
  },
  {
   "cell_type": "code",
   "execution_count": 10,
   "id": "7c50f31d",
   "metadata": {},
   "outputs": [],
   "source": [
    "from tensorflow.keras.preprocessing.sequence import pad_sequences\n",
    "import numpy as np\n",
    "\n",
    "# Function to convert a sentence (list of words) into a matrix representing the words in the embedding space\n",
    "def embed_sentence(word2vec, sentence):\n",
    "    embedded_sentence = []\n",
    "    for word in sentence:\n",
    "        if word in word2vec.wv:\n",
    "            embedded_sentence.append(word2vec.wv[word])\n",
    "        \n",
    "    return np.array(embedded_sentence)\n",
    "\n",
    "# Function that converts a list of sentences into a list of matrices\n",
    "def embedding(word2vec, sentences):\n",
    "    embed = []\n",
    "    \n",
    "    for sentence in sentences:\n",
    "        embedded_sentence = embed_sentence(word2vec, sentence)\n",
    "        embed.append(embedded_sentence)\n",
    "        \n",
    "    return embed"
   ]
  },
  {
   "cell_type": "code",
   "execution_count": 11,
   "id": "8ecc118d",
   "metadata": {},
   "outputs": [],
   "source": [
    "X_test_embed = embedding(word2vec, X_test)"
   ]
  },
  {
   "cell_type": "code",
   "execution_count": 12,
   "id": "faed00e2",
   "metadata": {},
   "outputs": [],
   "source": [
    "# Embed the training and test sentences\n",
    "X_train_embed = embedding(word2vec, X_train)"
   ]
  },
  {
   "cell_type": "markdown",
   "id": "ae0c6103",
   "metadata": {},
   "source": [
    "# Padding to make the input of the same length"
   ]
  },
  {
   "cell_type": "code",
   "execution_count": 13,
   "id": "8ce86a00",
   "metadata": {},
   "outputs": [],
   "source": [
    "# Pad the training and test embedded sentences\n",
    "X_train_padded = pad_sequences(X_train_embed, dtype='float32', padding='pre', maxlen=500, value = -99.0)"
   ]
  },
  {
   "cell_type": "code",
   "execution_count": 14,
   "id": "f8e097cf",
   "metadata": {},
   "outputs": [],
   "source": [
    "X_test_padded = pad_sequences(X_test_embed, dtype='float32', padding='pre', maxlen=500, value = -99.0)"
   ]
  },
  {
   "cell_type": "code",
   "execution_count": 15,
   "id": "ca06aebc",
   "metadata": {},
   "outputs": [
    {
     "data": {
      "text/plain": [
       "((28000, 500, 10), (12000, 500, 10))"
      ]
     },
     "execution_count": 15,
     "metadata": {},
     "output_type": "execute_result"
    }
   ],
   "source": [
    "#Check shape\n",
    "\n",
    "X_train_padded.shape , X_test_padded.shape"
   ]
  },
  {
   "cell_type": "code",
   "execution_count": 16,
   "id": "7279422d",
   "metadata": {},
   "outputs": [
    {
     "data": {
      "text/plain": [
       "array([[[-9.9000000e+01, -9.9000000e+01, -9.9000000e+01, ...,\n",
       "         -9.9000000e+01, -9.9000000e+01, -9.9000000e+01],\n",
       "        [-9.9000000e+01, -9.9000000e+01, -9.9000000e+01, ...,\n",
       "         -9.9000000e+01, -9.9000000e+01, -9.9000000e+01],\n",
       "        [-9.9000000e+01, -9.9000000e+01, -9.9000000e+01, ...,\n",
       "         -9.9000000e+01, -9.9000000e+01, -9.9000000e+01],\n",
       "        ...,\n",
       "        [ 8.4064347e-01, -3.2482895e-01,  1.5019696e+00, ...,\n",
       "         -2.4320903e-01, -2.1022305e-01,  4.9791235e-01],\n",
       "        [ 1.1854537e+00,  4.4227305e-01, -1.8064916e-01, ...,\n",
       "         -9.9707144e-01,  2.0635910e-01,  1.4725028e-01],\n",
       "        [ 2.1605468e+00,  2.2353104e-01,  2.1596248e+00, ...,\n",
       "         -9.5733780e-01,  9.3649161e-01, -1.2988801e-01]],\n",
       "\n",
       "       [[ 2.0217366e+00,  1.6488731e+00,  1.0038257e+00, ...,\n",
       "         -3.4896666e-01,  7.7490789e-01, -4.7623243e-02],\n",
       "        [ 1.1854537e+00,  4.4227305e-01, -1.8064916e-01, ...,\n",
       "         -9.9707144e-01,  2.0635910e-01,  1.4725028e-01],\n",
       "        [ 4.6736097e-01,  3.3233237e-01, -7.5918391e-02, ...,\n",
       "         -1.2009150e+00,  8.6250448e-01,  1.1892594e+00],\n",
       "        ...,\n",
       "        [ 7.0181018e-01,  4.6461156e-01,  1.6189690e-01, ...,\n",
       "         -2.7969447e-01,  5.5819631e-01,  3.9916921e-01],\n",
       "        [ 1.1854537e+00,  4.4227305e-01, -1.8064916e-01, ...,\n",
       "         -9.9707144e-01,  2.0635910e-01,  1.4725028e-01],\n",
       "        [ 2.1605468e+00,  2.2353104e-01,  2.1596248e+00, ...,\n",
       "         -9.5733780e-01,  9.3649161e-01, -1.2988801e-01]],\n",
       "\n",
       "       [[ 1.7014190e+00, -5.7777566e-01,  8.8866961e-01, ...,\n",
       "         -1.1845134e+00,  5.4250824e-01, -2.9498072e-02],\n",
       "        [ 2.0217366e+00,  1.6488731e+00,  1.0038257e+00, ...,\n",
       "         -3.4896666e-01,  7.7490789e-01, -4.7623243e-02],\n",
       "        [ 1.1854537e+00,  4.4227305e-01, -1.8064916e-01, ...,\n",
       "         -9.9707144e-01,  2.0635910e-01,  1.4725028e-01],\n",
       "        ...,\n",
       "        [ 7.5156218e-01,  4.5066718e-02,  9.2452431e-01, ...,\n",
       "         -1.1578577e+00, -1.7077295e+00,  7.3156762e-01],\n",
       "        [ 1.1854537e+00,  4.4227305e-01, -1.8064916e-01, ...,\n",
       "         -9.9707144e-01,  2.0635910e-01,  1.4725028e-01],\n",
       "        [ 2.1605468e+00,  2.2353104e-01,  2.1596248e+00, ...,\n",
       "         -9.5733780e-01,  9.3649161e-01, -1.2988801e-01]],\n",
       "\n",
       "       ...,\n",
       "\n",
       "       [[-9.9000000e+01, -9.9000000e+01, -9.9000000e+01, ...,\n",
       "         -9.9000000e+01, -9.9000000e+01, -9.9000000e+01],\n",
       "        [-9.9000000e+01, -9.9000000e+01, -9.9000000e+01, ...,\n",
       "         -9.9000000e+01, -9.9000000e+01, -9.9000000e+01],\n",
       "        [-9.9000000e+01, -9.9000000e+01, -9.9000000e+01, ...,\n",
       "         -9.9000000e+01, -9.9000000e+01, -9.9000000e+01],\n",
       "        ...,\n",
       "        [ 7.0181018e-01,  4.6461156e-01,  1.6189690e-01, ...,\n",
       "         -2.7969447e-01,  5.5819631e-01,  3.9916921e-01],\n",
       "        [ 1.1854537e+00,  4.4227305e-01, -1.8064916e-01, ...,\n",
       "         -9.9707144e-01,  2.0635910e-01,  1.4725028e-01],\n",
       "        [ 2.1605468e+00,  2.2353104e-01,  2.1596248e+00, ...,\n",
       "         -9.5733780e-01,  9.3649161e-01, -1.2988801e-01]],\n",
       "\n",
       "       [[-9.9000000e+01, -9.9000000e+01, -9.9000000e+01, ...,\n",
       "         -9.9000000e+01, -9.9000000e+01, -9.9000000e+01],\n",
       "        [-9.9000000e+01, -9.9000000e+01, -9.9000000e+01, ...,\n",
       "         -9.9000000e+01, -9.9000000e+01, -9.9000000e+01],\n",
       "        [-9.9000000e+01, -9.9000000e+01, -9.9000000e+01, ...,\n",
       "         -9.9000000e+01, -9.9000000e+01, -9.9000000e+01],\n",
       "        ...,\n",
       "        [ 7.0091313e-01,  1.2030558e-01,  7.5579762e-01, ...,\n",
       "         -1.8061168e-02,  6.7369336e-01, -4.7298354e-01],\n",
       "        [ 1.1854537e+00,  4.4227305e-01, -1.8064916e-01, ...,\n",
       "         -9.9707144e-01,  2.0635910e-01,  1.4725028e-01],\n",
       "        [ 2.1605468e+00,  2.2353104e-01,  2.1596248e+00, ...,\n",
       "         -9.5733780e-01,  9.3649161e-01, -1.2988801e-01]],\n",
       "\n",
       "       [[ 1.7014190e+00, -5.7777566e-01,  8.8866961e-01, ...,\n",
       "         -1.1845134e+00,  5.4250824e-01, -2.9498072e-02],\n",
       "        [ 2.0217366e+00,  1.6488731e+00,  1.0038257e+00, ...,\n",
       "         -3.4896666e-01,  7.7490789e-01, -4.7623243e-02],\n",
       "        [ 1.1854537e+00,  4.4227305e-01, -1.8064916e-01, ...,\n",
       "         -9.9707144e-01,  2.0635910e-01,  1.4725028e-01],\n",
       "        ...,\n",
       "        [ 2.0966814e+00,  5.8901627e-02,  2.1018843e-01, ...,\n",
       "         -9.6643329e-01,  7.2641712e-01,  3.0366069e-01],\n",
       "        [ 1.1854537e+00,  4.4227305e-01, -1.8064916e-01, ...,\n",
       "         -9.9707144e-01,  2.0635910e-01,  1.4725028e-01],\n",
       "        [ 2.1605468e+00,  2.2353104e-01,  2.1596248e+00, ...,\n",
       "         -9.5733780e-01,  9.3649161e-01, -1.2988801e-01]]], dtype=float32)"
      ]
     },
     "execution_count": 16,
     "metadata": {},
     "output_type": "execute_result"
    }
   ],
   "source": [
    "X_train_padded"
   ]
  },
  {
   "cell_type": "markdown",
   "id": "ff4f9c87",
   "metadata": {},
   "source": [
    "# Create the model"
   ]
  },
  {
   "cell_type": "code",
   "execution_count": 17,
   "id": "88e0c536",
   "metadata": {},
   "outputs": [],
   "source": [
    "from tensorflow.keras import regularizers"
   ]
  },
  {
   "cell_type": "code",
   "execution_count": 18,
   "id": "70879792",
   "metadata": {},
   "outputs": [
    {
     "name": "stderr",
     "output_type": "stream",
     "text": [
      "2022-09-09 10:43:14.885080: I tensorflow/core/platform/cpu_feature_guard.cc:142] This TensorFlow binary is optimized with oneAPI Deep Neural Network Library (oneDNN) to use the following CPU instructions in performance-critical operations:  SSE4.2\n",
      "To enable them in other operations, rebuild TensorFlow with the appropriate compiler flags.\n"
     ]
    }
   ],
   "source": [
    "#Zein's model \n",
    "\n",
    "\n",
    "\n",
    "reg_l1 = regularizers.L1(0.01)\n",
    "reg_l2 = regularizers.L2(0.01)\n",
    "\n",
    "model = Sequential([\n",
    "    layers.Masking(mask_value= -99.0),\n",
    "    layers.LSTM(40, activation='tanh'),\n",
    "    layers.Dense(40, activation = 'relu', kernel_regularizer=reg_l1),\n",
    "    layers.Dropout(rate=0.2),\n",
    "    layers.Dense(20, activation = 'relu', kernel_regularizer=reg_l1 ),\n",
    "    layers.Dropout(rate=0.2),\n",
    "    layers.Dense(10, activation = 'relu', kernel_regularizer=reg_l1),\n",
    "    layers.Dropout(rate=0.2),\n",
    "    layers.Dense(1, activation=\"sigmoid\")\n",
    "    \n",
    "\n",
    "])\n",
    "\n",
    "model.compile(loss='binary_crossentropy',\n",
    "              optimizer='rmsprop',\n",
    "              metrics=['accuracy'])\n"
   ]
  },
  {
   "cell_type": "code",
   "execution_count": null,
   "id": "22bf1c02",
   "metadata": {},
   "outputs": [
    {
     "name": "stdout",
     "output_type": "stream",
     "text": [
      "Epoch 1/100\n",
      "1488/1488 - 156s - loss: 0.7061 - accuracy: 0.4992 - val_loss: 0.7060 - val_accuracy: 0.5150\n",
      "Epoch 2/100\n",
      "1488/1488 - 159s - loss: 0.7061 - accuracy: 0.4994 - val_loss: 0.7058 - val_accuracy: 0.5150\n",
      "Epoch 3/100\n",
      "1488/1488 - 167s - loss: 0.7062 - accuracy: 0.5018 - val_loss: 0.7060 - val_accuracy: 0.5150\n",
      "Epoch 4/100\n",
      "1488/1488 - 168s - loss: 0.7062 - accuracy: 0.4986 - val_loss: 0.7059 - val_accuracy: 0.5150\n",
      "Epoch 5/100\n",
      "1488/1488 - 186s - loss: 0.7061 - accuracy: 0.5001 - val_loss: 0.7060 - val_accuracy: 0.5150\n",
      "Epoch 6/100\n"
     ]
    }
   ],
   "source": [
    "# Early stopping and train the model\n",
    "\n",
    "es = EarlyStopping(patience = 15, verbose=2, monitor='val_loss', restore_best_weights = True)\n",
    "\n",
    "model.fit(X_train_padded, y_train, batch_size = 16, verbose=2 ,callbacks = [es], validation_split=0.15, epochs = 100)"
   ]
  },
  {
   "cell_type": "code",
   "execution_count": null,
   "id": "b984918c",
   "metadata": {},
   "outputs": [],
   "source": [
    "model.evaluate(X_test_padded, y_test)"
   ]
  }
 ],
 "metadata": {
  "kernelspec": {
   "display_name": "Python 3 (ipykernel)",
   "language": "python",
   "name": "python3"
  },
  "language_info": {
   "codemirror_mode": {
    "name": "ipython",
    "version": 3
   },
   "file_extension": ".py",
   "mimetype": "text/x-python",
   "name": "python",
   "nbconvert_exporter": "python",
   "pygments_lexer": "ipython3",
   "version": "3.8.12"
  },
  "toc": {
   "base_numbering": 1,
   "nav_menu": {},
   "number_sections": true,
   "sideBar": true,
   "skip_h1_title": false,
   "title_cell": "Table of Contents",
   "title_sidebar": "Contents",
   "toc_cell": false,
   "toc_position": {},
   "toc_section_display": true,
   "toc_window_display": false
  },
  "varInspector": {
   "cols": {
    "lenName": 16,
    "lenType": 16,
    "lenVar": 40
   },
   "kernels_config": {
    "python": {
     "delete_cmd_postfix": "",
     "delete_cmd_prefix": "del ",
     "library": "var_list.py",
     "varRefreshCmd": "print(var_dic_list())"
    },
    "r": {
     "delete_cmd_postfix": ") ",
     "delete_cmd_prefix": "rm(",
     "library": "var_list.r",
     "varRefreshCmd": "cat(var_dic_list()) "
    }
   },
   "oldHeight": 281.889364,
   "position": {
    "height": "303.878px",
    "left": "780.984px",
    "right": "20px",
    "top": "93.9531px",
    "width": "499.006px"
   },
   "types_to_exclude": [
    "module",
    "function",
    "builtin_function_or_method",
    "instance",
    "_Feature"
   ],
   "varInspector_section_display": "block",
   "window_display": false
  }
 },
 "nbformat": 4,
 "nbformat_minor": 5
}
